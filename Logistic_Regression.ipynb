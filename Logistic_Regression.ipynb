{
  "nbformat": 4,
  "nbformat_minor": 0,
  "metadata": {
    "kernelspec": {
      "language": "python",
      "display_name": "Python 3",
      "name": "python3"
    },
    "language_info": {
      "pygments_lexer": "ipython3",
      "nbconvert_exporter": "python",
      "version": "3.6.4",
      "file_extension": ".py",
      "codemirror_mode": {
        "name": "ipython",
        "version": 3
      },
      "name": "python",
      "mimetype": "text/x-python"
    },
    "colab": {
      "name": "Logistic_Regression.ipynb",
      "provenance": [],
      "collapsed_sections": []
    }
  },
  "cells": [
    {
      "cell_type": "code",
      "metadata": {
        "execution": {
          "iopub.status.busy": "2021-11-13T18:20:02.856977Z",
          "iopub.execute_input": "2021-11-13T18:20:02.857980Z",
          "iopub.status.idle": "2021-11-13T18:20:02.881891Z",
          "shell.execute_reply.started": "2021-11-13T18:20:02.857851Z",
          "shell.execute_reply": "2021-11-13T18:20:02.881121Z"
        },
        "trusted": true,
        "id": "F8UpsCt5gTBU"
      },
      "source": [
        "path=\"/content/drive/My Drive/project data/\""
      ],
      "execution_count": 125,
      "outputs": []
    },
    {
      "cell_type": "code",
      "metadata": {
        "execution": {
          "iopub.status.busy": "2021-11-13T18:20:02.883443Z",
          "iopub.execute_input": "2021-11-13T18:20:02.883806Z",
          "iopub.status.idle": "2021-11-13T18:20:02.887407Z",
          "shell.execute_reply.started": "2021-11-13T18:20:02.883775Z",
          "shell.execute_reply": "2021-11-13T18:20:02.886315Z"
        },
        "trusted": true,
        "id": "VA4rpdnPgTBd"
      },
      "source": [
        "import pandas as pd\n",
        "import numpy as np"
      ],
      "execution_count": 126,
      "outputs": []
    },
    {
      "cell_type": "code",
      "metadata": {
        "execution": {
          "iopub.status.busy": "2021-11-13T18:20:02.889174Z",
          "iopub.execute_input": "2021-11-13T18:20:02.889781Z",
          "iopub.status.idle": "2021-11-13T18:20:10.937948Z",
          "shell.execute_reply.started": "2021-11-13T18:20:02.889734Z",
          "shell.execute_reply": "2021-11-13T18:20:10.937073Z"
        },
        "trusted": true,
        "id": "nHkMbqGQgTBf"
      },
      "source": [
        "train=pd.read_csv(path+\"train.csv\")\n",
        "data=pd.read_csv(path+\"preprocessed_data.csv\")"
      ],
      "execution_count": 127,
      "outputs": []
    },
    {
      "cell_type": "code",
      "metadata": {
        "execution": {
          "iopub.status.busy": "2021-11-13T18:20:50.208532Z",
          "iopub.execute_input": "2021-11-13T18:20:50.209073Z",
          "iopub.status.idle": "2021-11-13T18:20:50.242740Z",
          "shell.execute_reply.started": "2021-11-13T18:20:50.209021Z",
          "shell.execute_reply": "2021-11-13T18:20:50.241849Z"
        },
        "trusted": true,
        "colab": {
          "base_uri": "https://localhost:8080/",
          "height": 357
        },
        "id": "m7DjBHnugTBh",
        "outputId": "7ef2890e-b551-489e-c78c-066a01739795"
      },
      "source": [
        "labels=train.iloc[:,2:]\n",
        "labels.head(10)"
      ],
      "execution_count": 128,
      "outputs": [
        {
          "output_type": "execute_result",
          "data": {
            "text/html": [
              "<div>\n",
              "<style scoped>\n",
              "    .dataframe tbody tr th:only-of-type {\n",
              "        vertical-align: middle;\n",
              "    }\n",
              "\n",
              "    .dataframe tbody tr th {\n",
              "        vertical-align: top;\n",
              "    }\n",
              "\n",
              "    .dataframe thead th {\n",
              "        text-align: right;\n",
              "    }\n",
              "</style>\n",
              "<table border=\"1\" class=\"dataframe\">\n",
              "  <thead>\n",
              "    <tr style=\"text-align: right;\">\n",
              "      <th></th>\n",
              "      <th>toxic</th>\n",
              "      <th>severe_toxic</th>\n",
              "      <th>obscene</th>\n",
              "      <th>threat</th>\n",
              "      <th>insult</th>\n",
              "      <th>identity_hate</th>\n",
              "    </tr>\n",
              "  </thead>\n",
              "  <tbody>\n",
              "    <tr>\n",
              "      <th>0</th>\n",
              "      <td>0</td>\n",
              "      <td>0</td>\n",
              "      <td>0</td>\n",
              "      <td>0</td>\n",
              "      <td>0</td>\n",
              "      <td>0</td>\n",
              "    </tr>\n",
              "    <tr>\n",
              "      <th>1</th>\n",
              "      <td>0</td>\n",
              "      <td>0</td>\n",
              "      <td>0</td>\n",
              "      <td>0</td>\n",
              "      <td>0</td>\n",
              "      <td>0</td>\n",
              "    </tr>\n",
              "    <tr>\n",
              "      <th>2</th>\n",
              "      <td>0</td>\n",
              "      <td>0</td>\n",
              "      <td>0</td>\n",
              "      <td>0</td>\n",
              "      <td>0</td>\n",
              "      <td>0</td>\n",
              "    </tr>\n",
              "    <tr>\n",
              "      <th>3</th>\n",
              "      <td>0</td>\n",
              "      <td>0</td>\n",
              "      <td>0</td>\n",
              "      <td>0</td>\n",
              "      <td>0</td>\n",
              "      <td>0</td>\n",
              "    </tr>\n",
              "    <tr>\n",
              "      <th>4</th>\n",
              "      <td>0</td>\n",
              "      <td>0</td>\n",
              "      <td>0</td>\n",
              "      <td>0</td>\n",
              "      <td>0</td>\n",
              "      <td>0</td>\n",
              "    </tr>\n",
              "    <tr>\n",
              "      <th>5</th>\n",
              "      <td>0</td>\n",
              "      <td>0</td>\n",
              "      <td>0</td>\n",
              "      <td>0</td>\n",
              "      <td>0</td>\n",
              "      <td>0</td>\n",
              "    </tr>\n",
              "    <tr>\n",
              "      <th>6</th>\n",
              "      <td>1</td>\n",
              "      <td>1</td>\n",
              "      <td>1</td>\n",
              "      <td>0</td>\n",
              "      <td>1</td>\n",
              "      <td>0</td>\n",
              "    </tr>\n",
              "    <tr>\n",
              "      <th>7</th>\n",
              "      <td>0</td>\n",
              "      <td>0</td>\n",
              "      <td>0</td>\n",
              "      <td>0</td>\n",
              "      <td>0</td>\n",
              "      <td>0</td>\n",
              "    </tr>\n",
              "    <tr>\n",
              "      <th>8</th>\n",
              "      <td>0</td>\n",
              "      <td>0</td>\n",
              "      <td>0</td>\n",
              "      <td>0</td>\n",
              "      <td>0</td>\n",
              "      <td>0</td>\n",
              "    </tr>\n",
              "    <tr>\n",
              "      <th>9</th>\n",
              "      <td>0</td>\n",
              "      <td>0</td>\n",
              "      <td>0</td>\n",
              "      <td>0</td>\n",
              "      <td>0</td>\n",
              "      <td>0</td>\n",
              "    </tr>\n",
              "  </tbody>\n",
              "</table>\n",
              "</div>"
            ],
            "text/plain": [
              "   toxic  severe_toxic  obscene  threat  insult  identity_hate\n",
              "0      0             0        0       0       0              0\n",
              "1      0             0        0       0       0              0\n",
              "2      0             0        0       0       0              0\n",
              "3      0             0        0       0       0              0\n",
              "4      0             0        0       0       0              0\n",
              "5      0             0        0       0       0              0\n",
              "6      1             1        1       0       1              0\n",
              "7      0             0        0       0       0              0\n",
              "8      0             0        0       0       0              0\n",
              "9      0             0        0       0       0              0"
            ]
          },
          "metadata": {},
          "execution_count": 128
        }
      ]
    },
    {
      "cell_type": "code",
      "metadata": {
        "execution": {
          "iopub.status.busy": "2021-11-13T18:21:08.531162Z",
          "iopub.execute_input": "2021-11-13T18:21:08.531515Z",
          "iopub.status.idle": "2021-11-13T18:21:08.539713Z",
          "shell.execute_reply.started": "2021-11-13T18:21:08.531479Z",
          "shell.execute_reply": "2021-11-13T18:21:08.539127Z"
        },
        "trusted": true,
        "colab": {
          "base_uri": "https://localhost:8080/"
        },
        "id": "Fv62YnG8gTBi",
        "outputId": "3bbf5338-bf6f-4103-829d-a2eca6740f9d"
      },
      "source": [
        "classes=list(labels.columns)\n",
        "classes"
      ],
      "execution_count": 129,
      "outputs": [
        {
          "output_type": "execute_result",
          "data": {
            "text/plain": [
              "['toxic', 'severe_toxic', 'obscene', 'threat', 'insult', 'identity_hate']"
            ]
          },
          "metadata": {},
          "execution_count": 129
        }
      ]
    },
    {
      "cell_type": "code",
      "metadata": {
        "execution": {
          "iopub.status.busy": "2021-11-13T18:22:37.470506Z",
          "iopub.execute_input": "2021-11-13T18:22:37.471318Z",
          "iopub.status.idle": "2021-11-13T18:22:37.484389Z",
          "shell.execute_reply.started": "2021-11-13T18:22:37.471276Z",
          "shell.execute_reply": "2021-11-13T18:22:37.483489Z"
        },
        "trusted": true,
        "colab": {
          "base_uri": "https://localhost:8080/",
          "height": 304
        },
        "id": "NNZeZ7T-gTBk",
        "outputId": "92b326a1-6324-42d1-93cb-27c888ac0ab4"
      },
      "source": [
        "data.head()"
      ],
      "execution_count": 130,
      "outputs": [
        {
          "output_type": "execute_result",
          "data": {
            "text/html": [
              "<div>\n",
              "<style scoped>\n",
              "    .dataframe tbody tr th:only-of-type {\n",
              "        vertical-align: middle;\n",
              "    }\n",
              "\n",
              "    .dataframe tbody tr th {\n",
              "        vertical-align: top;\n",
              "    }\n",
              "\n",
              "    .dataframe thead th {\n",
              "        text-align: right;\n",
              "    }\n",
              "</style>\n",
              "<table border=\"1\" class=\"dataframe\">\n",
              "  <thead>\n",
              "    <tr style=\"text-align: right;\">\n",
              "      <th></th>\n",
              "      <th>Unnamed: 0</th>\n",
              "      <th>id</th>\n",
              "      <th>comment_text</th>\n",
              "      <th>toxic</th>\n",
              "      <th>severe_toxic</th>\n",
              "      <th>obscene</th>\n",
              "      <th>threat</th>\n",
              "      <th>insult</th>\n",
              "      <th>identity_hate</th>\n",
              "      <th>vector</th>\n",
              "    </tr>\n",
              "  </thead>\n",
              "  <tbody>\n",
              "    <tr>\n",
              "      <th>0</th>\n",
              "      <td>0</td>\n",
              "      <td>0000997932d777bf</td>\n",
              "      <td>Explanation\\nWhy the edits made under my usern...</td>\n",
              "      <td>0</td>\n",
              "      <td>0</td>\n",
              "      <td>0</td>\n",
              "      <td>0</td>\n",
              "      <td>0</td>\n",
              "      <td>0</td>\n",
              "      <td>[ 0.00593334  0.07003178 -0.2012667   0.377534...</td>\n",
              "    </tr>\n",
              "    <tr>\n",
              "      <th>1</th>\n",
              "      <td>1</td>\n",
              "      <td>000103f0d9cfb60f</td>\n",
              "      <td>D'aww! He matches this background colour I'm s...</td>\n",
              "      <td>0</td>\n",
              "      <td>0</td>\n",
              "      <td>0</td>\n",
              "      <td>0</td>\n",
              "      <td>0</td>\n",
              "      <td>0</td>\n",
              "      <td>[-0.2508106   0.01673899  0.31538136 -0.121969...</td>\n",
              "    </tr>\n",
              "    <tr>\n",
              "      <th>2</th>\n",
              "      <td>2</td>\n",
              "      <td>000113f07ec002fd</td>\n",
              "      <td>Hey man, I'm really not trying to edit war. It...</td>\n",
              "      <td>0</td>\n",
              "      <td>0</td>\n",
              "      <td>0</td>\n",
              "      <td>0</td>\n",
              "      <td>0</td>\n",
              "      <td>0</td>\n",
              "      <td>[ 0.41935966 -0.12742983 -0.48621123  0.245375...</td>\n",
              "    </tr>\n",
              "    <tr>\n",
              "      <th>3</th>\n",
              "      <td>3</td>\n",
              "      <td>0001b41b1c6bb37e</td>\n",
              "      <td>\"\\nMore\\nI can't make any real suggestions on ...</td>\n",
              "      <td>0</td>\n",
              "      <td>0</td>\n",
              "      <td>0</td>\n",
              "      <td>0</td>\n",
              "      <td>0</td>\n",
              "      <td>0</td>\n",
              "      <td>[ 0.32448252 -0.40889367 -0.00564199  0.136562...</td>\n",
              "    </tr>\n",
              "    <tr>\n",
              "      <th>4</th>\n",
              "      <td>4</td>\n",
              "      <td>0001d958c54c6e35</td>\n",
              "      <td>You, sir, are my hero. Any chance you remember...</td>\n",
              "      <td>0</td>\n",
              "      <td>0</td>\n",
              "      <td>0</td>\n",
              "      <td>0</td>\n",
              "      <td>0</td>\n",
              "      <td>0</td>\n",
              "      <td>[-0.04981409  0.68221519 -0.62567751  0.101100...</td>\n",
              "    </tr>\n",
              "  </tbody>\n",
              "</table>\n",
              "</div>"
            ],
            "text/plain": [
              "   Unnamed: 0  ...                                             vector\n",
              "0           0  ...  [ 0.00593334  0.07003178 -0.2012667   0.377534...\n",
              "1           1  ...  [-0.2508106   0.01673899  0.31538136 -0.121969...\n",
              "2           2  ...  [ 0.41935966 -0.12742983 -0.48621123  0.245375...\n",
              "3           3  ...  [ 0.32448252 -0.40889367 -0.00564199  0.136562...\n",
              "4           4  ...  [-0.04981409  0.68221519 -0.62567751  0.101100...\n",
              "\n",
              "[5 rows x 10 columns]"
            ]
          },
          "metadata": {},
          "execution_count": 130
        }
      ]
    },
    {
      "cell_type": "code",
      "metadata": {
        "execution": {
          "iopub.status.busy": "2021-11-13T18:39:44.140465Z",
          "iopub.execute_input": "2021-11-13T18:39:44.140809Z",
          "iopub.status.idle": "2021-11-13T18:39:44.146482Z",
          "shell.execute_reply.started": "2021-11-13T18:39:44.140774Z",
          "shell.execute_reply": "2021-11-13T18:39:44.145791Z"
        },
        "trusted": true,
        "id": "a2qRbEt2gTBn"
      },
      "source": [
        "def vec(string):\n",
        "    string = string.replace('\\n', '')\n",
        "    string = string.replace('[ ', '')\n",
        "    string = string.replace('[', '')\n",
        "    string = string.replace(']', '')\n",
        "    lst = string.split()\n",
        "    for i in range(len(lst)):\n",
        "        lst[i] = float(lst[i])\n",
        "    return lst"
      ],
      "execution_count": 131,
      "outputs": []
    },
    {
      "cell_type": "code",
      "metadata": {
        "execution": {
          "iopub.status.busy": "2021-11-13T18:39:47.291235Z",
          "iopub.execute_input": "2021-11-13T18:39:47.291545Z",
          "iopub.status.idle": "2021-11-13T18:39:54.656985Z",
          "shell.execute_reply.started": "2021-11-13T18:39:47.291515Z",
          "shell.execute_reply": "2021-11-13T18:39:54.656023Z"
        },
        "trusted": true,
        "id": "u5G1UZeZgTBp"
      },
      "source": [
        "lst = []\n",
        "for ele in data['vector']:\n",
        "    lst.append(vec(ele))"
      ],
      "execution_count": 132,
      "outputs": []
    },
    {
      "cell_type": "code",
      "metadata": {
        "colab": {
          "base_uri": "https://localhost:8080/",
          "height": 304
        },
        "id": "SWbo1_E6hAnQ",
        "outputId": "8eed2ade-2913-4d7e-c8e9-53c41ee7ca86"
      },
      "source": [
        "data['vector'] = lst\n",
        "data.head()"
      ],
      "execution_count": 133,
      "outputs": [
        {
          "output_type": "execute_result",
          "data": {
            "text/html": [
              "<div>\n",
              "<style scoped>\n",
              "    .dataframe tbody tr th:only-of-type {\n",
              "        vertical-align: middle;\n",
              "    }\n",
              "\n",
              "    .dataframe tbody tr th {\n",
              "        vertical-align: top;\n",
              "    }\n",
              "\n",
              "    .dataframe thead th {\n",
              "        text-align: right;\n",
              "    }\n",
              "</style>\n",
              "<table border=\"1\" class=\"dataframe\">\n",
              "  <thead>\n",
              "    <tr style=\"text-align: right;\">\n",
              "      <th></th>\n",
              "      <th>Unnamed: 0</th>\n",
              "      <th>id</th>\n",
              "      <th>comment_text</th>\n",
              "      <th>toxic</th>\n",
              "      <th>severe_toxic</th>\n",
              "      <th>obscene</th>\n",
              "      <th>threat</th>\n",
              "      <th>insult</th>\n",
              "      <th>identity_hate</th>\n",
              "      <th>vector</th>\n",
              "    </tr>\n",
              "  </thead>\n",
              "  <tbody>\n",
              "    <tr>\n",
              "      <th>0</th>\n",
              "      <td>0</td>\n",
              "      <td>0000997932d777bf</td>\n",
              "      <td>Explanation\\nWhy the edits made under my usern...</td>\n",
              "      <td>0</td>\n",
              "      <td>0</td>\n",
              "      <td>0</td>\n",
              "      <td>0</td>\n",
              "      <td>0</td>\n",
              "      <td>0</td>\n",
              "      <td>[0.00593334, 0.07003178, -0.2012667, 0.3775345...</td>\n",
              "    </tr>\n",
              "    <tr>\n",
              "      <th>1</th>\n",
              "      <td>1</td>\n",
              "      <td>000103f0d9cfb60f</td>\n",
              "      <td>D'aww! He matches this background colour I'm s...</td>\n",
              "      <td>0</td>\n",
              "      <td>0</td>\n",
              "      <td>0</td>\n",
              "      <td>0</td>\n",
              "      <td>0</td>\n",
              "      <td>0</td>\n",
              "      <td>[-0.2508106, 0.01673899, 0.31538136, -0.121969...</td>\n",
              "    </tr>\n",
              "    <tr>\n",
              "      <th>2</th>\n",
              "      <td>2</td>\n",
              "      <td>000113f07ec002fd</td>\n",
              "      <td>Hey man, I'm really not trying to edit war. It...</td>\n",
              "      <td>0</td>\n",
              "      <td>0</td>\n",
              "      <td>0</td>\n",
              "      <td>0</td>\n",
              "      <td>0</td>\n",
              "      <td>0</td>\n",
              "      <td>[0.41935966, -0.12742983, -0.48621123, 0.24537...</td>\n",
              "    </tr>\n",
              "    <tr>\n",
              "      <th>3</th>\n",
              "      <td>3</td>\n",
              "      <td>0001b41b1c6bb37e</td>\n",
              "      <td>\"\\nMore\\nI can't make any real suggestions on ...</td>\n",
              "      <td>0</td>\n",
              "      <td>0</td>\n",
              "      <td>0</td>\n",
              "      <td>0</td>\n",
              "      <td>0</td>\n",
              "      <td>0</td>\n",
              "      <td>[0.32448252, -0.40889367, -0.00564199, 0.13656...</td>\n",
              "    </tr>\n",
              "    <tr>\n",
              "      <th>4</th>\n",
              "      <td>4</td>\n",
              "      <td>0001d958c54c6e35</td>\n",
              "      <td>You, sir, are my hero. Any chance you remember...</td>\n",
              "      <td>0</td>\n",
              "      <td>0</td>\n",
              "      <td>0</td>\n",
              "      <td>0</td>\n",
              "      <td>0</td>\n",
              "      <td>0</td>\n",
              "      <td>[-0.04981409, 0.68221519, -0.62567751, 0.10110...</td>\n",
              "    </tr>\n",
              "  </tbody>\n",
              "</table>\n",
              "</div>"
            ],
            "text/plain": [
              "   Unnamed: 0  ...                                             vector\n",
              "0           0  ...  [0.00593334, 0.07003178, -0.2012667, 0.3775345...\n",
              "1           1  ...  [-0.2508106, 0.01673899, 0.31538136, -0.121969...\n",
              "2           2  ...  [0.41935966, -0.12742983, -0.48621123, 0.24537...\n",
              "3           3  ...  [0.32448252, -0.40889367, -0.00564199, 0.13656...\n",
              "4           4  ...  [-0.04981409, 0.68221519, -0.62567751, 0.10110...\n",
              "\n",
              "[5 rows x 10 columns]"
            ]
          },
          "metadata": {},
          "execution_count": 133
        }
      ]
    },
    {
      "cell_type": "code",
      "metadata": {
        "id": "FMaFVBpNhLAJ"
      },
      "source": [
        "temp = []\n",
        "for ele in data['vector']:\n",
        "    temp.append(np.array(ele))\n",
        "data['vector'] = temp"
      ],
      "execution_count": 134,
      "outputs": []
    },
    {
      "cell_type": "code",
      "metadata": {
        "colab": {
          "base_uri": "https://localhost:8080/"
        },
        "id": "8sx2oGruiV76",
        "outputId": "8bd36e18-6ea0-4ced-e126-df6ec06aa087"
      },
      "source": [
        "y=data.iloc[:,3:9]\n",
        "x=data['vector']\n",
        "print(x.shape)\n",
        "print(y.shape)"
      ],
      "execution_count": 135,
      "outputs": [
        {
          "output_type": "stream",
          "name": "stdout",
          "text": [
            "(159571,)\n",
            "(159571, 6)\n"
          ]
        }
      ]
    },
    {
      "cell_type": "code",
      "metadata": {
        "execution": {
          "iopub.status.busy": "2021-11-13T18:41:17.462666Z",
          "iopub.execute_input": "2021-11-13T18:41:17.462972Z",
          "iopub.status.idle": "2021-11-13T18:41:17.572840Z",
          "shell.execute_reply.started": "2021-11-13T18:41:17.462942Z",
          "shell.execute_reply": "2021-11-13T18:41:17.571819Z"
        },
        "trusted": true,
        "id": "w95Tqa5igTBu"
      },
      "source": [
        "from sklearn.model_selection import train_test_split\n",
        "X_train, X_val_test, y_train, y_val_test = train_test_split(x,y,test_size=0.3,random_state=1)\n",
        "X_val, X_test, y_val, y_test = train_test_split(X_val_test,y_val_test,test_size=0.5,random_state=1)"
      ],
      "execution_count": 136,
      "outputs": []
    },
    {
      "cell_type": "code",
      "metadata": {
        "id": "rpSEQYFTnIXg"
      },
      "source": [
        "x_tr = []\n",
        "for ele in X_train:\n",
        "  x_tr.append(ele)\n",
        "x_tr=np.array(x_tr)\n",
        "\n",
        "x_va = []\n",
        "for ele in X_val:\n",
        "  x_va.append(ele)\n",
        "x_va=np.array(x_va)\n",
        "\n",
        "x_ts = []\n",
        "for ele in X_test:\n",
        "  x_ts.append(ele)\n",
        "x_ts=np.array(x_ts)"
      ],
      "execution_count": 137,
      "outputs": []
    },
    {
      "cell_type": "code",
      "metadata": {
        "id": "GeHtl6MZi0Cx"
      },
      "source": [
        "from sklearn.linear_model import LogisticRegression\n",
        "from sklearn.metrics import roc_auc_score\n",
        "\n",
        "model=LogisticRegression(C=20.0, max_iter=1000000)"
      ],
      "execution_count": 138,
      "outputs": []
    },
    {
      "cell_type": "code",
      "metadata": {
        "id": "MFrNEnrjqTyK"
      },
      "source": [
        "## Binary Relevance"
      ],
      "execution_count": null,
      "outputs": []
    },
    {
      "cell_type": "code",
      "metadata": {
        "colab": {
          "base_uri": "https://localhost:8080/"
        },
        "id": "WLg7vkx5i1W2",
        "outputId": "1ae7536e-b265-42da-cc42-783549192eb9"
      },
      "source": [
        "scores_roc_aoc = []\n",
        "\n",
        "for label_name in classes:\n",
        "    print('Class:', label_name)\n",
        "\n",
        "    model.fit(x_tr, y_train[label_name])\n",
        "    preds_train = model.predict(x_tr)\n",
        "    train_roc_auc = roc_auc_score(y_train[label_name], preds_train)\n",
        "    print('Train ROC AUC Score:', train_roc_auc)\n",
        "\n",
        "    preds_val = model.predict(x_va)\n",
        "    val_roc_auc = roc_auc_score(y_val[label_name], preds_val)\n",
        "    print('Val ROC AUC Score:', val_roc_auc)\n",
        "\n",
        "    preds_test = model.predict(x_ts)\n",
        "    test_roc_auc = roc_auc_score(y_test[label_name], preds_test)\n",
        "    print('Test ROC AUC Score:', test_roc_auc)\n",
        "    scores_roc_aoc.append(test_roc_auc)\n",
        "\n",
        "    print()\n",
        "\n",
        "\n",
        "print(np.mean(scores_roc_aoc))"
      ],
      "execution_count": 139,
      "outputs": [
        {
          "output_type": "stream",
          "name": "stdout",
          "text": [
            "Class: toxic\n",
            "Train ROC AUC Score: 0.7518182318302802\n",
            "Val ROC AUC Score: 0.7482186594356357\n",
            "Test ROC AUC Score: 0.7487698632025699\n",
            "\n",
            "Class: severe_toxic\n",
            "Train ROC AUC Score: 0.6090461648160052\n",
            "Val ROC AUC Score: 0.6132522135672442\n",
            "Test ROC AUC Score: 0.584763030032673\n",
            "\n",
            "Class: obscene\n",
            "Train ROC AUC Score: 0.7510319025085368\n",
            "Val ROC AUC Score: 0.7518540501066314\n",
            "Test ROC AUC Score: 0.753925370199633\n",
            "\n",
            "Class: threat\n",
            "Train ROC AUC Score: 0.5507777777777778\n",
            "Val ROC AUC Score: 0.5607060417218829\n",
            "Test ROC AUC Score: 0.530956572769953\n",
            "\n",
            "Class: insult\n",
            "Train ROC AUC Score: 0.7009275324603561\n",
            "Val ROC AUC Score: 0.6990594030872183\n",
            "Test ROC AUC Score: 0.7033423254112624\n",
            "\n",
            "Class: identity_hate\n",
            "Train ROC AUC Score: 0.5447198152176701\n",
            "Val ROC AUC Score: 0.5558101646960942\n",
            "Test ROC AUC Score: 0.5462924044776464\n",
            "\n",
            "0.6446749276822896\n"
          ]
        }
      ]
    },
    {
      "cell_type": "code",
      "metadata": {
        "id": "fOrBistaqsDh"
      },
      "source": [
        "## Classifier chains"
      ],
      "execution_count": null,
      "outputs": []
    },
    {
      "cell_type": "code",
      "metadata": {
        "id": "koFwiuQ0qvNM"
      },
      "source": [
        "from scipy.sparse import hstack, csr_matrix\n",
        "\n",
        "def add_feat(x, feat):\n",
        "  return hstack([x, csr_matrix(feat).T], 'csr')"
      ],
      "execution_count": 140,
      "outputs": []
    },
    {
      "cell_type": "code",
      "metadata": {
        "colab": {
          "base_uri": "https://localhost:8080/"
        },
        "id": "SO83UpDJqxhR",
        "outputId": "8e69e786-5299-4170-adb2-157770ae5bc0"
      },
      "source": [
        "scores_roc_aoc = []\n",
        "\n",
        "for label_name in classes:\n",
        "    print('Class:', label_name)\n",
        "\n",
        "    model.fit(x_tr, y_train[label_name])\n",
        "    preds_train = model.predict(x_tr)\n",
        "    train_roc_auc = roc_auc_score(y_train[label_name], preds_train)\n",
        "    print('Train ROC AUC Score:', train_roc_auc)\n",
        "\n",
        "    preds_val = model.predict(x_va)\n",
        "    val_roc_auc = roc_auc_score(y_val[label_name], preds_val)\n",
        "    print('Val ROC AUC Score:', val_roc_auc)\n",
        "\n",
        "    preds_test = model.predict(x_ts)\n",
        "    test_roc_auc = roc_auc_score(y_test[label_name], preds_test)\n",
        "    print('Test ROC AUC Score:', test_roc_auc)\n",
        "    scores_roc_aoc.append(test_roc_auc)\n",
        "\n",
        "    X_train_feat = add_feat(x_tr, y_train[label_name])\n",
        "    X_val_feat = add_feat(x_va, y_val[label_name])\n",
        "    X_test_feat = add_feat(x_ts, y_test[label_name])\n",
        "    print(X_train_feat.shape)\n",
        "    print(X_val_feat.shape)\n",
        "    print(X_test_feat.shape)\n",
        "    print()\n",
        "\n",
        "print(np.mean(scores_roc_aoc))"
      ],
      "execution_count": 141,
      "outputs": [
        {
          "output_type": "stream",
          "name": "stdout",
          "text": [
            "Class: toxic\n",
            "Train ROC AUC Score: 0.7518182318302802\n",
            "Val ROC AUC Score: 0.7482186594356357\n",
            "Test ROC AUC Score: 0.7487698632025699\n",
            "(111699, 101)\n",
            "(23936, 101)\n",
            "(23936, 101)\n",
            "\n",
            "Class: severe_toxic\n",
            "Train ROC AUC Score: 0.6090461648160052\n",
            "Val ROC AUC Score: 0.6132522135672442\n",
            "Test ROC AUC Score: 0.584763030032673\n",
            "(111699, 101)\n",
            "(23936, 101)\n",
            "(23936, 101)\n",
            "\n",
            "Class: obscene\n",
            "Train ROC AUC Score: 0.7510319025085368\n",
            "Val ROC AUC Score: 0.7518540501066314\n",
            "Test ROC AUC Score: 0.753925370199633\n",
            "(111699, 101)\n",
            "(23936, 101)\n",
            "(23936, 101)\n",
            "\n",
            "Class: threat\n",
            "Train ROC AUC Score: 0.5507777777777778\n",
            "Val ROC AUC Score: 0.5607060417218829\n",
            "Test ROC AUC Score: 0.530956572769953\n",
            "(111699, 101)\n",
            "(23936, 101)\n",
            "(23936, 101)\n",
            "\n",
            "Class: insult\n",
            "Train ROC AUC Score: 0.7009275324603561\n",
            "Val ROC AUC Score: 0.6990594030872183\n",
            "Test ROC AUC Score: 0.7033423254112624\n",
            "(111699, 101)\n",
            "(23936, 101)\n",
            "(23936, 101)\n",
            "\n",
            "Class: identity_hate\n",
            "Train ROC AUC Score: 0.5447198152176701\n",
            "Val ROC AUC Score: 0.5558101646960942\n",
            "Test ROC AUC Score: 0.5462924044776464\n",
            "(111699, 101)\n",
            "(23936, 101)\n",
            "(23936, 101)\n",
            "\n",
            "0.6446749276822896\n"
          ]
        }
      ]
    }
  ]
}